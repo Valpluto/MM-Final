{
 "cells": [
  {
   "cell_type": "code",
   "execution_count": 49,
   "id": "0a315d79-2f9e-411a-ae4f-8de8598d6dd1",
   "metadata": {},
   "outputs": [],
   "source": [
    "from sklearn.datasets import load_files\n",
    "from sklearn.pipeline import Pipeline\n",
    "from sklearn.linear_model import SGDClassifier\n",
    "from sklearn.model_selection import GridSearchCV\n",
    "from sklearn.feature_extraction.text import CountVectorizer, TfidfTransformer\n",
    "from sklearn.naive_bayes import MultinomialNB\n",
    "from sklearn.ensemble import RandomForestClassifier\n",
    "from joblib import dump, load\n",
    "from tqdm.notebook import tqdm\n",
    "\n"
   ]
  },
  {
   "cell_type": "code",
   "execution_count": null,
   "id": "96424ee5-5ea7-412d-8a64-98d1d490d515",
   "metadata": {},
   "outputs": [],
   "source": [
    "#pipelines \n",
    "alors = [\"kraken\", \"tesseract\"]\n",
    "types = ['train','test','val']\n",
    "alors_counter = 0"
   ]
  },
  {
   "cell_type": "code",
   "execution_count": 11,
   "id": "694ce54e-c42c-47b6-9431-06291a5456f0",
   "metadata": {},
   "outputs": [],
   "source": [
    "\n",
    "store = {}\n",
    "for al in alors:\n",
    "    for ty in types:\n",
    "        store[\"{}_{}\".format(al,ty)] = load_files(\"output/{}/{}\".format(al,ty))\n",
    "\n"
   ]
  },
  {
   "cell_type": "code",
   "execution_count": null,
   "id": "e85318b5-07b6-449b-8f26-274531b7e84a",
   "metadata": {},
   "outputs": [],
   "source": []
  },
  {
   "cell_type": "code",
   "execution_count": 20,
   "id": "3880f4c8-5143-4099-8b2a-ba3c6c11f8d2",
   "metadata": {},
   "outputs": [],
   "source": [
    "parameters_Multinomial = {\n",
    "    'vect__ngram_range': [(1, 1), (1, 2)],\n",
    "    'tfidf__use_idf': (True, False),\n",
    "    'clf__alpha': (1e-2, 1e-3),\n",
    "}\n",
    "\n",
    "text_clf = Pipeline([\n",
    "    ('vect', CountVectorizer()),\n",
    "    ('tfidf', TfidfTransformer()),\n",
    "    ('clf', MultinomialNB()),\n",
    "    ])\n",
    "\n",
    "\n",
    "#--------------------------------------------\n",
    "\n",
    "text_sgd = Pipeline([\n",
    "    ('vect', CountVectorizer()),\n",
    "    ('tfidf', TfidfTransformer()),\n",
    "    ('clf', SGDClassifier()), \n",
    "    ])\n",
    "\n",
    "parameters_sgd = {\n",
    "    'vect__ngram_range': [(1, 1), (1, 2)],\n",
    "    'tfidf__use_idf': (True, False),\n",
    "    \"clf__loss\" : [\"hinge\", \"log\", \"squared_hinge\", \"modified_huber\", \"perceptron\"],\n",
    "    \"clf__alpha\" : [0.0001, 0.001, 0.01, 0.1],\n",
    "    \"clf__penalty\" : [\"l2\", \"l1\", \"elasticnet\", \"none\"],\n",
    "    }\n",
    "\n",
    "#-------------------------------------------\n",
    "\n",
    "text_rf = Pipeline([\n",
    "    ('vect', CountVectorizer()),\n",
    "    ('tfidf', TfidfTransformer()),\n",
    "    ('clf', RandomForestClassifier()),\n",
    "    ])\n",
    "\n",
    "parameters_rf = { \n",
    "    'vect__ngram_range': [(1, 1), (1, 2)],\n",
    "    'tfidf__use_idf': (True, False),\n",
    "    'clf__n_estimators': [200, 500],\n",
    "    'clf__max_features': ['auto', 'sqrt', 'log2'],\n",
    "    'clf__max_depth' : [4,5,6,7,8,10,20,50,100],\n",
    "    'clf__criterion' :['gini', 'entropy']\n",
    "    }"
   ]
  },
  {
   "cell_type": "code",
   "execution_count": 51,
   "id": "7a977b66-1499-4e3f-86ea-536ac0dcd7e7",
   "metadata": {},
   "outputs": [],
   "source": [
    "algor_list = [(parameters_Multinomial, text_clf), (parameters_rf ,text_rf)]\n",
    "#, ( parameters_sgd ,text_sgd)\n",
    "algor_name  = [\"MultinomialNB\", \"RandomForest\"]\n",
    "#, \"SGDClassifier\"\n",
    "best_parameters_store ={}"
   ]
  },
  {
   "cell_type": "code",
   "execution_count": 36,
   "id": "1a0083ef-d0fc-4a08-bed3-65e045de0d2d",
   "metadata": {},
   "outputs": [],
   "source": [
    "hold = store[\"{}_train\".format(\"kraken\")]"
   ]
  },
  {
   "cell_type": "code",
   "execution_count": null,
   "id": "20316691-3964-4f0f-be5f-f02303c7ff48",
   "metadata": {},
   "outputs": [
    {
     "data": {
      "application/vnd.jupyter.widget-view+json": {
       "model_id": "78f9bb3fc429437eaa41c4dd11856d17",
       "version_major": 2,
       "version_minor": 0
      },
      "text/plain": [
       "  0%|          | 0/2 [00:00<?, ?it/s]"
      ]
     },
     "metadata": {},
     "output_type": "display_data"
    },
    {
     "data": {
      "application/vnd.jupyter.widget-view+json": {
       "model_id": "6876a8c08fe54e88a3b0915a15fad536",
       "version_major": 2,
       "version_minor": 0
      },
      "text/plain": [
       "  0%|          | 0/2 [00:00<?, ?it/s]"
      ]
     },
     "metadata": {},
     "output_type": "display_data"
    },
    {
     "name": "stdout",
     "output_type": "stream",
     "text": [
      "For algorithm kraken model: MultinomialNB \n",
      " Accurancy 0.4431 \n",
      " best model {'clf__alpha': 0.01, 'tfidf__use_idf': True, 'vect__ngram_range': (1, 1)}\n",
      "For algorithm tesseract model: MultinomialNB \n",
      " Accurancy 0.649 \n",
      " best model {'clf__alpha': 0.001, 'tfidf__use_idf': True, 'vect__ngram_range': (1, 2)}\n"
     ]
    },
    {
     "data": {
      "application/vnd.jupyter.widget-view+json": {
       "model_id": "d81a7961665643d0ae111b2dbdd86be2",
       "version_major": 2,
       "version_minor": 0
      },
      "text/plain": [
       "  0%|          | 0/2 [00:00<?, ?it/s]"
      ]
     },
     "metadata": {},
     "output_type": "display_data"
    },
    {
     "name": "stdout",
     "output_type": "stream",
     "text": [
      "For algorithm kraken model: RandomForest \n",
      " Accurancy 0.36019999999999996 \n",
      " best model {'clf__criterion': 'entropy', 'clf__max_depth': 8, 'clf__max_features': 'sqrt', 'clf__n_estimators': 500, 'tfidf__use_idf': True, 'vect__ngram_range': (1, 1)}\n"
     ]
    }
   ],
   "source": [
    "counter = 0\n",
    "\n",
    "for search in  tqdm(algor_list):\n",
    "    \n",
    "    for al in tqdm(alors):\n",
    "    \n",
    "        gs = GridSearchCV(search[1], search[0], cv = 5, n_jobs = -1)\n",
    "\n",
    "        model = gs.fit(store[\"{}_train\".format(al)].data, store[\"{}_train\".format(al)].target )\n",
    "        \n",
    "        best_parameters_store['{}_{}_{}'.format(al, algor_name[counter]), alors_couter] = model\n",
    "        \n",
    "        dump(model, \"models/{}_{}.joblib\".format(al, algor_name[counter]))\n",
    "        \n",
    "        print(\"For algorithm {} model: {} \\n Accurancy {} \\n best model {}\".format(al , algor_name[counter] , model.best_score_ , model.best_params_ ))\n",
    "        \n",
    "    counter += 1\n",
    "    alors_counter += 1\n",
    "    \n",
    "        "
   ]
  },
  {
   "cell_type": "code",
   "execution_count": null,
   "id": "8cc64531-03c9-47f6-8420-2fe5c8848e05",
   "metadata": {},
   "outputs": [],
   "source": []
  }
 ],
 "metadata": {
  "kernelspec": {
   "display_name": "Python 3",
   "language": "python",
   "name": "python3"
  },
  "language_info": {
   "codemirror_mode": {
    "name": "ipython",
    "version": 3
   },
   "file_extension": ".py",
   "mimetype": "text/x-python",
   "name": "python",
   "nbconvert_exporter": "python",
   "pygments_lexer": "ipython3",
   "version": "3.6.13"
  }
 },
 "nbformat": 4,
 "nbformat_minor": 5
}
