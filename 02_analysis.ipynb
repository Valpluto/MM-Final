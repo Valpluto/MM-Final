{
 "cells": [
  {
   "cell_type": "code",
   "execution_count": 19,
   "id": "0a315d79-2f9e-411a-ae4f-8de8598d6dd1",
   "metadata": {},
   "outputs": [],
   "source": [
    "from sklearn.datasets import load_files\n",
    "from sklearn.pipeline import Pipeline\n",
    "from sklearn.linear_model import SGDClassifier\n",
    "from sklearn.model_selection import GridSearchCV\n",
    "from sklearn.feature_extraction.text import CountVectorizer, TfidfTransformer\n",
    "from sklearn.naive_bayes import MultinomialNB\n",
    "from sklearn.ensemble import RandomForestClassifier\n",
    "\n"
   ]
  },
  {
   "cell_type": "code",
   "execution_count": 7,
   "id": "96424ee5-5ea7-412d-8a64-98d1d490d515",
   "metadata": {},
   "outputs": [],
   "source": [
    "#pipelines \n",
    "alors = [\"kraken\", \"tesseract\"]\n",
    "types = ['train','test','val']"
   ]
  },
  {
   "cell_type": "code",
   "execution_count": 11,
   "id": "694ce54e-c42c-47b6-9431-06291a5456f0",
   "metadata": {},
   "outputs": [],
   "source": [
    "\n",
    "store = {}\n",
    "for al in alors:\n",
    "    for ty in types:\n",
    "        store[\"{}_{}\".format(al,ty)] = load_files(\"output/{}/{}\".format(al,ty))\n",
    "\n"
   ]
  },
  {
   "cell_type": "code",
   "execution_count": null,
   "id": "e85318b5-07b6-449b-8f26-274531b7e84a",
   "metadata": {},
   "outputs": [],
   "source": []
  },
  {
   "cell_type": "code",
   "execution_count": 20,
   "id": "3880f4c8-5143-4099-8b2a-ba3c6c11f8d2",
   "metadata": {},
   "outputs": [],
   "source": [
    "parameters_Multinomial = {\n",
    "    'vect__ngram_range': [(1, 1), (1, 2)],\n",
    "    'tfidf__use_idf': (True, False),\n",
    "    'clf__alpha': (1e-2, 1e-3),\n",
    "}\n",
    "\n",
    "text_clf = Pipeline([\n",
    "    ('vect', CountVectorizer()),\n",
    "    ('tfidf', TfidfTransformer()),\n",
    "    ('clf', MultinomialNB()),\n",
    "    ])\n",
    "\n",
    "\n",
    "#--------------------------------------------\n",
    "\n",
    "text_sgd = Pipeline([\n",
    "    ('vect', CountVectorizer()),\n",
    "    ('tfidf', TfidfTransformer()),\n",
    "    ('clf', SGDClassifier()), \n",
    "    ])\n",
    "\n",
    "parameters_sgd = {\n",
    "    'vect__ngram_range': [(1, 1), (1, 2)],\n",
    "    'tfidf__use_idf': (True, False),\n",
    "    \"clf__loss\" : [\"hinge\", \"log\", \"squared_hinge\", \"modified_huber\", \"perceptron\"],\n",
    "    \"clf__alpha\" : [0.0001, 0.001, 0.01, 0.1],\n",
    "    \"clf__penalty\" : [\"l2\", \"l1\", \"elasticnet\", \"none\"],\n",
    "    }\n",
    "\n",
    "#-------------------------------------------\n",
    "\n",
    "text_rf = Pipeline([\n",
    "    ('vect', CountVectorizer()),\n",
    "    ('tfidf', TfidfTransformer()),\n",
    "    ('clf', RandomForestClassifier()),\n",
    "    ])\n",
    "\n",
    "parameters_rf = { \n",
    "    'vect__ngram_range': [(1, 1), (1, 2)],\n",
    "    'tfidf__use_idf': (True, False),\n",
    "    'clf__n_estimators': [200, 500],\n",
    "    'clf__max_features': ['auto', 'sqrt', 'log2'],\n",
    "    'clf__max_depth' : [4,5,6,7,8],\n",
    "    'clf__criterion' :['gini', 'entropy']\n",
    "    }"
   ]
  },
  {
   "cell_type": "code",
   "execution_count": 22,
   "id": "7a977b66-1499-4e3f-86ea-536ac0dcd7e7",
   "metadata": {},
   "outputs": [],
   "source": [
    "algor_list = [(parameters_Multinomial, text_clf), ( parameters_sgd ,text_sgd), (parameters_rf ,text_rf)]\n",
    "\n",
    "best_parameters_modes ={}"
   ]
  },
  {
   "cell_type": "code",
   "execution_count": 23,
   "id": "a5405134-fa09-49e3-867c-b610c93b5f22",
   "metadata": {},
   "outputs": [
    {
     "ename": "SyntaxError",
     "evalue": "invalid syntax (<ipython-input-23-ef8f7288d049>, line 1)",
     "output_type": "error",
     "traceback": [
      "\u001b[0;36m  File \u001b[0;32m\"<ipython-input-23-ef8f7288d049>\"\u001b[0;36m, line \u001b[0;32m1\u001b[0m\n\u001b[0;31m    for search in algor_list\u001b[0m\n\u001b[0m                            ^\u001b[0m\n\u001b[0;31mSyntaxError\u001b[0m\u001b[0;31m:\u001b[0m invalid syntax\n"
     ]
    }
   ],
   "source": [
    "\n",
    "for search in algor_list:\n",
    "    \n",
    "        "
   ]
  },
  {
   "cell_type": "code",
   "execution_count": null,
   "id": "8cc64531-03c9-47f6-8420-2fe5c8848e05",
   "metadata": {},
   "outputs": [],
   "source": []
  }
 ],
 "metadata": {
  "kernelspec": {
   "display_name": "Python 3",
   "language": "python",
   "name": "python3"
  },
  "language_info": {
   "codemirror_mode": {
    "name": "ipython",
    "version": 3
   },
   "file_extension": ".py",
   "mimetype": "text/x-python",
   "name": "python",
   "nbconvert_exporter": "python",
   "pygments_lexer": "ipython3",
   "version": "3.6.13"
  }
 },
 "nbformat": 4,
 "nbformat_minor": 5
}
