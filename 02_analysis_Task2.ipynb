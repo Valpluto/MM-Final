{
 "cells": [
  {
   "cell_type": "code",
   "execution_count": 47,
   "id": "321479a8-3aef-4187-8fd6-5621599732d2",
   "metadata": {
    "tags": []
   },
   "outputs": [],
   "source": [
    "import os\n",
    "import threading\n",
    "import time\n",
    "import datetime, random\n",
    "import pandas as pd\n",
    "from tqdm.notebook import tqdm\n",
    "\n",
    "from IPython.display import HTML\n",
    "import plotly.express as px\n",
    "import xml.etree.ElementTree as ET\n",
    "root_node = ET.parse(file).getroot()\n",
    "from bs4 import BeautifulSoup"
   ]
  },
  {
   "cell_type": "code",
   "execution_count": 7,
   "id": "e94a2567-71ea-4bfd-a5ad-da1224101af5",
   "metadata": {},
   "outputs": [],
   "source": [
    "dataloc = \"data/images/\"\n",
    "outputloc = \"output\"\n",
    "labels = \"data/labels\"\n",
    "rdcl_path = \"data/RDCL2019/\""
   ]
  },
  {
   "cell_type": "code",
   "execution_count": 11,
   "id": "943040e9-8122-4644-adeb-ce28c53e583f",
   "metadata": {},
   "outputs": [],
   "source": [
    "all_files = []\n",
    "files_list = os.listdir(rdcl_path)"
   ]
  },
  {
   "cell_type": "markdown",
   "id": "b798ccbd-d24b-402d-9b5e-09b8210d86b0",
   "metadata": {},
   "source": [
    "Following goe shtouhg the example RDCL2019 dataset. this reads xml and extracts the raw text. then run the .tiff through documents kraken and tesseract"
   ]
  },
  {
   "cell_type": "code",
   "execution_count": 56,
   "id": "28cf66e9-17fd-4e5e-85e3-1d3d268073ff",
   "metadata": {},
   "outputs": [],
   "source": [
    "textfiles = {}\n",
    "location = []\n",
    "for file in files_list:\n",
    "    input_file = \"{}{}\".format(rdcl_path, file)\n",
    "    output_file_text = \"{}/RDCL2019/text/{}.txt\".format(outputloc, file[:-4])\n",
    "    \n",
    "    #we get unicode out of the xml file\n",
    "    if file[-3:] == 'xml':\n",
    "        fd = open(input_file, 'r')\n",
    "        \n",
    "        xml_file = fd.read()\n",
    "\n",
    "        soup = BeautifulSoup(xml_file, 'lxml')\n",
    "        \n",
    "        od = open(output_file_text, 'w')\n",
    "\n",
    "        for tag in soup.findAll('unicode'):\n",
    "            od.write(tag.text)\n",
    "            #print(tag.text)\n",
    "        od.close()\n",
    "    \n",
    "    #run the none xml files though kraken and tesseract for later. \n",
    "    output_file_kraken = \"{}/RDCL2019/kraken/{}.txt\".format(outputloc, file[:-4])\n",
    "    output_file_tesseract = \"{}/RDCL2019/tesseract/{}.txt\".format(outputloc, file[:-4])\n",
    "        \n",
    "    pro_time = time.process_time()\n",
    "    system_cmd = \"kraken -i {} {} binarize segment ocr -m en_best.mlmodel\".format(input_file, output_file_kraken)\n",
    "    os.system(system_cmd)\n",
    "    location.append([\"kraken\", time.process_time() - pro_time, input_file, output_file_kraken, output_file_text])\n",
    "\n",
    "    system_cmd = \"tesseract {} {} \".format(input_file, output_file_tesseract)\n",
    "    pro_time = time.process_time()\n",
    "    os.system(system_cmd)\n",
    "    location.append([\"tesseract\", time.process_time() - pro_time,input_file, output_file_tesseract, output_file_text])\n",
    "    "
   ]
  },
  {
   "cell_type": "markdown",
   "id": "39a7d6e6-d411-45f5-928c-239a2c8db094",
   "metadata": {},
   "source": [
    "We want statistics BLEU, Rouge n-rouge "
   ]
  },
  {
   "cell_type": "code",
   "execution_count": 57,
   "id": "a892a285-4886-41a8-bdbe-b79ec903e9b6",
   "metadata": {},
   "outputs": [],
   "source": [
    "import warnings\n",
    "warnings.filterwarnings('ignore')\n",
    "\n",
    "import nltk.translate.bleu_score as bleu\n"
   ]
  },
  {
   "cell_type": "code",
   "execution_count": 19,
   "id": "510e4fb7-6d8c-45a3-aff2-325ec5d02a0f",
   "metadata": {},
   "outputs": [
    {
     "name": "stdout",
     "output_type": "stream",
     "text": [
      "[['kraken', 0.0020523670000001104, 'data/RDCL2019/00770911.tif', 'output/RDCL2019/kraken/00770911.txt'], ['tesseract', 0.00023181500000024613, 'data/RDCL2019/00770911.tif', 'output/RDCL2019/tesseract/00770911.txt'], ['kraken', 0.0001892809999999301, 'data/RDCL2019/00771128.tif', 'output/RDCL2019/kraken/00771128.txt'], ['tesseract', 0.0002469300000003116, 'data/RDCL2019/00771128.tif', 'output/RDCL2019/tesseract/00771128.txt'], ['kraken', 0.0006924480000001232, 'data/RDCL2019/00770355.tif', 'output/RDCL2019/kraken/00770355.txt'], ['tesseract', 0.00018231900000031942, 'data/RDCL2019/00770355.tif', 'output/RDCL2019/tesseract/00770355.txt'], ['kraken', 0.0008255160000003592, 'data/RDCL2019/00770279.tif', 'output/RDCL2019/kraken/00770279.txt'], ['tesseract', 0.0003399110000001926, 'data/RDCL2019/00770279.tif', 'output/RDCL2019/tesseract/00770279.txt'], ['kraken', 0.000777421999999639, 'data/RDCL2019/00771226.tif', 'output/RDCL2019/kraken/00771226.txt'], ['tesseract', 0.0001424089999999545, 'data/RDCL2019/00771226.tif', 'output/RDCL2019/tesseract/00771226.txt'], ['kraken', 0.000820767, 'data/RDCL2019/00770395.tif', 'output/RDCL2019/kraken/00770395.txt'], ['tesseract', 0.00020106400000008406, 'data/RDCL2019/00770395.tif', 'output/RDCL2019/tesseract/00770395.txt'], ['kraken', 0.0007918049999999788, 'data/RDCL2019/00770276.tif', 'output/RDCL2019/kraken/00770276.txt'], ['tesseract', 0.00028206899999982937, 'data/RDCL2019/00770276.tif', 'output/RDCL2019/tesseract/00770276.txt'], ['kraken', 0.0006649470000001934, 'data/RDCL2019/00848894.tif', 'output/RDCL2019/kraken/00848894.txt'], ['tesseract', 0.00029289900000017965, 'data/RDCL2019/00848894.tif', 'output/RDCL2019/tesseract/00848894.txt'], ['kraken', 0.00020293900000023513, 'data/RDCL2019/00771115.tif', 'output/RDCL2019/kraken/00771115.txt'], ['tesseract', 0.0001221409999998535, 'data/RDCL2019/00771115.tif', 'output/RDCL2019/tesseract/00771115.txt'], ['kraken', 0.0008029539999996338, 'data/RDCL2019/00771262.tif', 'output/RDCL2019/kraken/00771262.txt'], ['tesseract', 0.0003105939999996643, 'data/RDCL2019/00771262.tif', 'output/RDCL2019/tesseract/00771262.txt'], ['kraken', 0.0001522700000000654, 'data/RDCL2019/00770085.tif', 'output/RDCL2019/kraken/00770085.txt'], ['tesseract', 0.00023302499999999782, 'data/RDCL2019/00770085.tif', 'output/RDCL2019/tesseract/00770085.txt'], ['kraken', 0.000771265000000021, 'data/RDCL2019/00770637.tif', 'output/RDCL2019/kraken/00770637.txt'], ['tesseract', 0.0002327230000003233, 'data/RDCL2019/00770637.tif', 'output/RDCL2019/tesseract/00770637.txt'], ['kraken', 0.0008317579999999047, 'data/RDCL2019/00770644.tif', 'output/RDCL2019/kraken/00770644.txt'], ['tesseract', 0.0003002620000001066, 'data/RDCL2019/00770644.tif', 'output/RDCL2019/tesseract/00770644.txt'], ['kraken', 0.0009410249999999287, 'data/RDCL2019/00770357.tif', 'output/RDCL2019/kraken/00770357.txt'], ['tesseract', 0.0001749279999998521, 'data/RDCL2019/00770357.tif', 'output/RDCL2019/tesseract/00770357.txt'], ['kraken', 0.00018960400000000988, 'data/RDCL2019/00771097.tif', 'output/RDCL2019/kraken/00771097.txt'], ['tesseract', 0.0002801680000001916, 'data/RDCL2019/00771097.tif', 'output/RDCL2019/tesseract/00771097.txt']]\n"
     ]
    }
   ],
   "source": [
    "bleu."
   ]
  },
  {
   "cell_type": "code",
   "execution_count": null,
   "id": "79434751-abce-4bbc-a276-138deb7e3ecc",
   "metadata": {},
   "outputs": [],
   "source": []
  }
 ],
 "metadata": {
  "kernelspec": {
   "display_name": "Python 3",
   "language": "python",
   "name": "python3"
  },
  "language_info": {
   "codemirror_mode": {
    "name": "ipython",
    "version": 3
   },
   "file_extension": ".py",
   "mimetype": "text/x-python",
   "name": "python",
   "nbconvert_exporter": "python",
   "pygments_lexer": "ipython3",
   "version": "3.6.13"
  }
 },
 "nbformat": 4,
 "nbformat_minor": 5
}
