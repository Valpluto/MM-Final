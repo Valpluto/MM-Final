{
 "cells": [
  {
   "cell_type": "code",
   "execution_count": 38,
   "metadata": {},
   "outputs": [],
   "source": [
    "# for rvl dataset \n",
    "dataloc = \"data/images/\"\n",
    "outputloc = \"output\"\n",
    "labels = \"data/labels\"\n",
    "\n",
    "# for my small dataset \n",
    "#dataloc = \n",
    "#outputloc = \n",
    "#data/labels"
   ]
  },
  {
   "cell_type": "code",
   "execution_count": 1,
   "metadata": {},
   "outputs": [],
   "source": [
    "import os\n",
    "import threading\n",
    "import time\n",
    "import datetime, random\n",
    "import pandas as pd\n",
    "from tqdm.notebook import tqdm\n",
    "\n",
    "from IPython.display import HTML\n",
    "import plotly.express as px"
   ]
  },
  {
   "cell_type": "code",
   "execution_count": 40,
   "metadata": {},
   "outputs": [],
   "source": [
    "img_files = []\n",
    "\n",
    "train_df = pd.read_csv(os.path.join(labels, 'train.txt'), delimiter=' ', header= None)\n",
    "train_df = train_df[(train_df[1]!=3)]\n",
    "train_df.columns=['dir','cat']\n",
    "\n",
    "test_df = pd.read_csv(os.path.join(labels, 'test.txt'), delimiter=' ', header= None)\n",
    "test_df = test_df[(test_df[1]!=3)]\n",
    "test_df.columns=['dir','cat']\n",
    "\n",
    "val_df = pd.read_csv(os.path.join(labels, 'val.txt'), delimiter=' ', header= None)\n",
    "val_df = val_df[(val_df[1]!=3)]\n",
    "val_df.columns=['dir','cat']"
   ]
  },
  {
   "cell_type": "code",
   "execution_count": 41,
   "metadata": {},
   "outputs": [
    {
     "data": {
      "text/html": [
       "<div>\n",
       "<style scoped>\n",
       "    .dataframe tbody tr th:only-of-type {\n",
       "        vertical-align: middle;\n",
       "    }\n",
       "\n",
       "    .dataframe tbody tr th {\n",
       "        vertical-align: top;\n",
       "    }\n",
       "\n",
       "    .dataframe thead th {\n",
       "        text-align: right;\n",
       "    }\n",
       "</style>\n",
       "<table border=\"1\" class=\"dataframe\">\n",
       "  <thead>\n",
       "    <tr style=\"text-align: right;\">\n",
       "      <th></th>\n",
       "      <th>dir</th>\n",
       "      <th>cat</th>\n",
       "    </tr>\n",
       "  </thead>\n",
       "  <tbody>\n",
       "    <tr>\n",
       "      <th>0</th>\n",
       "      <td>imagesq/q/o/c/qoc54c00/80035521.tif</td>\n",
       "      <td>15</td>\n",
       "    </tr>\n",
       "    <tr>\n",
       "      <th>1</th>\n",
       "      <td>imagese/e/w/c/ewc23d00/513280028.tif</td>\n",
       "      <td>1</td>\n",
       "    </tr>\n",
       "    <tr>\n",
       "      <th>2</th>\n",
       "      <td>imagesw/w/b/t/wbt26e00/2053453161.tif</td>\n",
       "      <td>7</td>\n",
       "    </tr>\n",
       "    <tr>\n",
       "      <th>3</th>\n",
       "      <td>imagesm/m/k/m/mkm05e00/2040792992_2040792994.tif</td>\n",
       "      <td>10</td>\n",
       "    </tr>\n",
       "    <tr>\n",
       "      <th>5</th>\n",
       "      <td>imagesq/q/v/t/qvt06d00/50525666-5667.tif</td>\n",
       "      <td>14</td>\n",
       "    </tr>\n",
       "  </tbody>\n",
       "</table>\n",
       "</div>"
      ],
      "text/plain": [
       "                                                dir  cat\n",
       "0               imagesq/q/o/c/qoc54c00/80035521.tif   15\n",
       "1              imagese/e/w/c/ewc23d00/513280028.tif    1\n",
       "2             imagesw/w/b/t/wbt26e00/2053453161.tif    7\n",
       "3  imagesm/m/k/m/mkm05e00/2040792992_2040792994.tif   10\n",
       "5          imagesq/q/v/t/qvt06d00/50525666-5667.tif   14"
      ]
     },
     "execution_count": 41,
     "metadata": {},
     "output_type": "execute_result"
    }
   ],
   "source": [
    "# now remove handwriting im not interested in this\n",
    "train_df.head()"
   ]
  },
  {
   "cell_type": "code",
   "execution_count": 42,
   "metadata": {},
   "outputs": [],
   "source": [
    "total_train = 10000\n",
    "\n",
    "def get_rep_sample(img_df, prefix = \"train \"):\n",
    "    if prefix = \"trian\":\n",
    "        sample_size = total_train\n",
    "    else:\n",
    "        sample_size = int(total_train * .1)\n",
    "    \n",
    "    return img_df.sample(n= sample_size)"
   ]
  },
  {
   "cell_type": "code",
   "execution_count": 43,
   "metadata": {},
   "outputs": [
    {
     "data": {
      "text/plain": [
       "100"
      ]
     },
     "execution_count": 43,
     "metadata": {},
     "output_type": "execute_result"
    }
   ],
   "source": [
    "get_rep_sample_size(train_df)"
   ]
  },
  {
   "cell_type": "code",
   "execution_count": 51,
   "metadata": {},
   "outputs": [],
   "source": [
    "def image_ocr(imagefiles, prefix = \"\" ):\n",
    "    location = []\n",
    "    location.append([\"algor\",'time','cat','output_dir'])\n",
    "    print(\"Total number of images to go though {} with 2 different alorithsm\".format(imagefiles.shape[0]))\n",
    "    for fileinput in tqdm(imagefiles.itertuples(), total = imagefiles.shape[0]):\n",
    "        \n",
    "        input_file = os.path.join(dataloc, fileinput.dir)\n",
    "        output_file_name = fileinput.dir.split(\"/\")[-1][:-4]\n",
    "        output_file_kraken = \"{}/{}/{}.txt\".format(outputloc, \"kraken\", \"{}_{}\".format(prefix , output_file_name))\n",
    "        output_file_tesseract = \"{}/{}/{}.txt\".format(outputloc, \"tesseract\", \"{}_{}\".format(prefix , output_file_name))\n",
    "        \n",
    "        #print(input_file)\n",
    "        #print(output_file_kraken)\n",
    "        \n",
    "        pro_time = time.process_time()\n",
    "        system_cmd = \"kraken -i {} {} binarize segment ocr -m en_best.mlmodel\".format(input_file, output_file_kraken)\n",
    "        os.system(system_cmd)\n",
    "        location.append([\"kraken\", time.process_time() - pro_time, fileinput.cat, output_file_kraken])\n",
    "\n",
    "        system_cmd = \"tesseract {} {} \".format(input_file, output_file_tesseract)\n",
    "        pro_time = time.process_time()\n",
    "        os.system(system_cmd)\n",
    "        location.append([\"tesseract\", time.process_time() - pro_time, fileinput.cat, output_file_tesseract])\n",
    "        \n",
    "    return location\n",
    "\n",
    "  "
   ]
  },
  {
   "cell_type": "code",
   "execution_count": 48,
   "metadata": {
    "tags": []
   },
   "outputs": [
    {
     "name": "stdout",
     "output_type": "stream",
     "text": [
      "Total number of images to go though 100 with 2 different alorithsm\n"
     ]
    },
    {
     "data": {
      "application/vnd.jupyter.widget-view+json": {
       "model_id": "a60d848123644146a732dd16ad5a504d",
       "version_major": 2,
       "version_minor": 0
      },
      "text/plain": [
       "  0%|          | 0/100 [00:00<?, ?it/s]"
      ]
     },
     "metadata": {},
     "output_type": "display_data"
    },
    {
     "name": "stdout",
     "output_type": "stream",
     "text": [
      "Pandas(Index=83758, dir='imagesb/b/g/a/bga28e00/1000768997_1000768998.tif', cat=5)\n",
      "Pandas(Index=128514, dir='imageso/o/a/l/oal38d00/2046988735.tif', cat=14)\n",
      "Pandas(Index=41352, dir='imagesy/y/r/u/yru81f00/2050817503_2050817506.tif', cat=5)\n",
      "Pandas(Index=48627, dir='imagesg/g/u/f/guf55c00/2075736618.tif', cat=1)\n",
      "Pandas(Index=212418, dir='imagesg/g/g/l/ggl65f00/0060083496.tif', cat=11)\n",
      "Pandas(Index=247734, dir='imagesb/b/b/q/bbq06d00/50518847-8854.tif', cat=6)\n",
      "Pandas(Index=249575, dir='imagesz/z/f/r/zfr81f00/2044976850.tif', cat=10)\n",
      "Pandas(Index=276005, dir='imagesw/w/z/p/wzp62d00/86264450_4465.tif', cat=15)\n",
      "Pandas(Index=274897, dir='imagesg/g/v/q/gvq58e00/2022179340.tif', cat=15)\n",
      "Pandas(Index=20524, dir='imagesu/u/s/j/usj82e00/2055451161.tif', cat=1)\n",
      "Pandas(Index=154673, dir='imageso/o/e/g/oeg61f00/0000991952.tif', cat=15)\n",
      "Pandas(Index=158396, dir='imagesz/z/v/t/zvt26d00/50667291-7291.tif', cat=6)\n",
      "Pandas(Index=149793, dir='imagesx/x/i/o/xio17e00/2031322287.tif', cat=7)\n",
      "Pandas(Index=150486, dir='imagesk/k/x/v/kxv94c00/2085797186.tif', cat=13)\n",
      "Pandas(Index=57008, dir='imagesc/c/l/h/clh10c00/2085135894c_5895.tif', cat=2)\n",
      "Pandas(Index=224205, dir='imagesp/p/z/x/pzx56c00/2075178786.tif', cat=15)\n",
      "Pandas(Index=6669, dir='imagesm/m/u/t/mut48d00/2063198968.tif', cat=8)\n",
      "Pandas(Index=175436, dir='imagesy/y/f/j/yfj89c00/50266534-6534.tif', cat=15)\n",
      "Pandas(Index=38086, dir='imagesx/x/b/d/xbd16d00/50542691-2692.tif', cat=14)\n",
      "Pandas(Index=245324, dir='imagesf/f/y/j/fyj65d00/504566960.tif', cat=7)\n",
      "Pandas(Index=20373, dir='imagesx/x/u/j/xuj23d00/513162690.tif', cat=11)\n",
      "Pandas(Index=310121, dir='imagesq/q/c/s/qcs06e00/2049431641.tif', cat=11)\n",
      "Pandas(Index=178539, dir='imagesv/v/y/w/vyw00a00/10336755.tif', cat=6)\n",
      "Pandas(Index=97570, dir='imagesi/i/b/c/ibc74c00/91557800.tif', cat=11)\n",
      "Pandas(Index=91355, dir='imagese/e/m/v/emv71f00/2023377569_2023377579.tif', cat=6)\n",
      "Pandas(Index=132395, dir='imagesk/k/h/j/khj02f00/ton02312.04.tif', cat=9)\n",
      "Pandas(Index=117240, dir='imageso/o/o/b/oob71e00/03724588.tif', cat=11)\n",
      "Pandas(Index=134248, dir='imagesq/q/y/y/qyy45c00/2076251661.tif', cat=1)\n",
      "Pandas(Index=166158, dir='imagesq/q/q/v/qqv96e00/2058067025.tif', cat=8)\n",
      "Pandas(Index=289760, dir='imagese/e/k/b/ekb17e00/2031309154.tif', cat=7)\n",
      "Pandas(Index=136898, dir='imagesf/f/p/z/fpz18c00/506084732+-4745.tif', cat=13)\n",
      "Pandas(Index=167384, dir='imagese/e/s/k/esk16d00/50591863-1864.tif', cat=14)\n",
      "Pandas(Index=33925, dir='imagesa/a/o/f/aof20c00/2085786066.tif', cat=2)\n",
      "Pandas(Index=242032, dir='imagesi/i/s/m/ism60d00/522618056+-8057.tif', cat=0)\n",
      "Pandas(Index=302905, dir='imagesu/u/c/a/uca86c00/2084111257.tif', cat=1)\n",
      "Pandas(Index=19131, dir='imagesp/p/x/x/pxx85c00/2073735761.tif', cat=9)\n",
      "Pandas(Index=273089, dir='imagesh/h/s/t/hst37e00/2029117655.tif', cat=6)\n",
      "Pandas(Index=190963, dir='imagesl/l/h/v/lhv51e00/03758775_03758776.tif', cat=9)\n",
      "Pandas(Index=196990, dir='imagesb/b/g/e/bge61d00/517992501+-2507.tif', cat=1)\n",
      "Pandas(Index=161489, dir='imageso/o/j/i/oji44c00/87226641_6642.tif', cat=7)\n",
      "Pandas(Index=209210, dir='imagesi/i/u/s/ius43a00/2065491779.tif', cat=15)\n",
      "Pandas(Index=313929, dir='imageso/o/j/m/ojm40f00/0000337560.tif', cat=10)\n",
      "Pandas(Index=262457, dir='imagesz/z/c/r/zcr00c00/2085122731.tif', cat=2)\n",
      "Pandas(Index=265909, dir='imagesp/p/y/r/pyr44d00/506697693_506697694.tif', cat=13)\n",
      "Pandas(Index=232302, dir='imagesh/h/b/e/hbe96c00/2070711796.tif', cat=8)\n",
      "Pandas(Index=18460, dir='imagesh/h/h/o/hho74c00/87122917_2920.tif', cat=6)\n",
      "Pandas(Index=135261, dir='imagesy/y/v/k/yvk92c00/2082701611.tif', cat=15)\n",
      "Pandas(Index=234714, dir='imagesf/f/t/e/fte10c00/2085135259d_5260.tif', cat=2)\n",
      "Pandas(Index=109790, dir='imagesw/w/e/z/wez98e00/2029377630.tif', cat=11)\n",
      "Pandas(Index=247710, dir='imagese/e/d/s/eds07e00/2031297785.tif', cat=7)\n",
      "Pandas(Index=126089, dir='imagesd/d/m/n/dmn00d00/50335659-5671.tif', cat=6)\n",
      "Pandas(Index=203157, dir='imagesc/c/l/v/clv55c00/2082603179_3182.tif', cat=12)\n",
      "Pandas(Index=288514, dir='imagesz/z/j/a/zja67d00/2028365257.tif', cat=8)\n",
      "Pandas(Index=113421, dir='imagese/e/t/x/etx36d00/50644504-4505.tif', cat=14)\n",
      "Pandas(Index=272575, dir='imagesb/b/p/w/bpw35a00/86402379_2403.tif', cat=10)\n",
      "Pandas(Index=35843, dir='imagesd/d/y/h/dyh33e00/2501476654.tif', cat=8)\n",
      "Pandas(Index=187735, dir='imagesw/w/x/e/wxe09d00/50432007-2007.tif', cat=0)\n",
      "Pandas(Index=141974, dir='imagesh/h/k/g/hkg81c00/2502040302_0353.tif', cat=5)\n",
      "Pandas(Index=189040, dir='imagesh/h/c/f/hcf20e00/01744007.tif', cat=4)\n",
      "Pandas(Index=263818, dir='imagesx/x/l/k/xlk77e00/2030478126_2030478129.tif', cat=1)\n",
      "Pandas(Index=131454, dir='imagesk/k/t/d/ktd42f00/11003743.tif', cat=10)\n",
      "Pandas(Index=13423, dir='imagesc/c/h/l/chl09d00/50443792-3793.tif', cat=14)\n",
      "Pandas(Index=177961, dir='imagesg/g/r/g/grg35e00/2001288147.tif', cat=5)\n",
      "Pandas(Index=85434, dir='imagesx/x/a/i/xai98c00/87503211_3221.tif', cat=6)\n",
      "Pandas(Index=127704, dir='imagesh/h/p/d/hpd09c00/93354997.tif', cat=0)\n",
      "Pandas(Index=244217, dir='imagest/t/g/m/tgm72f00/tob09124.12.tif', cat=10)\n",
      "Pandas(Index=81120, dir='imagesh/h/y/t/hyt03e00/2049419252.tif', cat=10)\n",
      "Pandas(Index=279420, dir='imagesh/h/p/k/hpk95c00/2073235098_5112.tif', cat=13)\n",
      "Pandas(Index=133955, dir='imageso/o/n/b/onb24f00/0000034868.tif', cat=12)\n",
      "Pandas(Index=96305, dir='imagesq/q/p/x/qpx81a00/1002486046_1002486047.tif', cat=13)\n",
      "Pandas(Index=138767, dir='imagesa/a/n/l/anl82f00/tob07418.43_tob07418.51.tif', cat=12)\n",
      "Pandas(Index=204545, dir='imagesw/w/x/c/wxc60e00/91241499.tif', cat=8)\n",
      "Pandas(Index=282881, dir='imagesk/k/c/a/kca19c00/2505287354.tif', cat=5)\n",
      "Pandas(Index=88758, dir='imagesc/c/o/b/cob43e00/2042168681.tif', cat=8)\n",
      "Pandas(Index=20003, dir='imagesd/d/u/p/dup95e00/2025365763.tif', cat=9)\n",
      "Pandas(Index=205338, dir='imagesc/c/u/v/cuv81f00/2054831092.tif', cat=15)\n",
      "Pandas(Index=196545, dir='imagesm/m/f/u/mfu81e00/01322750.tif', cat=10)\n",
      "Pandas(Index=242735, dir='imagesx/x/t/x/xtx11f00/0001234097.tif', cat=0)\n",
      "Pandas(Index=315276, dir='imagesm/m/e/m/mem64c00/92007879_7883.tif', cat=13)\n",
      "Pandas(Index=181715, dir='imagesv/v/q/p/vqp74d00/506314105.tif', cat=0)\n",
      "Pandas(Index=276458, dir='imagesc/c/c/s/ccs54e00/1000789587_1000789588.tif', cat=15)\n",
      "Pandas(Index=125067, dir='imagesi/i/h/k/ihk99c00/40029293-9302.tif', cat=6)\n",
      "Pandas(Index=163345, dir='imagesn/n/h/f/nhf03f00/tob01910.47.tif', cat=12)\n",
      "Pandas(Index=271542, dir='imagesn/n/h/f/nhf06d00/50497210-7211.tif', cat=14)\n",
      "Pandas(Index=66206, dir='imagesr/r/d/s/rds79c00/50229736-9737.tif', cat=14)\n",
      "Pandas(Index=37911, dir='imagesi/i/s/o/iso64c00/89691254.tif', cat=11)\n",
      "Pandas(Index=169825, dir='imagesm/m/u/f/muf28e00/1003077210_1003077216.tif', cat=5)\n",
      "Pandas(Index=83525, dir='imagesy/y/g/q/ygq23c00/92022919_2923.tif', cat=13)\n",
      "Pandas(Index=43639, dir='imagesg/g/h/c/ghc45e00/2040972454.tif', cat=1)\n",
      "Pandas(Index=136895, dir='imagesj/j/m/y/jmy03a00/514302874+-2890.tif', cat=13)\n",
      "Pandas(Index=233414, dir='imagesj/j/v/o/jvo91e00/00830473_00830504.tif', cat=5)\n",
      "Pandas(Index=318594, dir='imagesw/w/l/n/wln66e00/2054885497.tif', cat=1)\n",
      "Pandas(Index=279249, dir='imagese/e/u/t/eut59d00/500906547.tif', cat=0)\n",
      "Pandas(Index=158429, dir='imagesp/p/s/q/psq44c00/86584403_4415.tif', cat=12)\n",
      "Pandas(Index=264817, dir='imagesi/i/g/v/igv95d00/50477178-7179.tif', cat=14)\n",
      "Pandas(Index=238066, dir='imagesw/w/q/d/wqd29c00/2074789997.tif', cat=12)\n",
      "Pandas(Index=279542, dir='imagesp/p/j/q/pjq05e00/2040801466_2040801467.tif', cat=10)\n",
      "Pandas(Index=65086, dir='imagesr/r/k/u/rku30d00/519402482+-2483.tif', cat=7)\n",
      "Pandas(Index=173956, dir='imagesn/n/i/w/niw49e00/2025990535_2025990538.tif', cat=5)\n",
      "Pandas(Index=265739, dir='imagesn/n/c/y/ncy82f00/tob06717.90.tif', cat=9)\n"
     ]
    }
   ],
   "source": [
    "pd.DataFrame(image_ocr(get_rep_sample(train_df), prefix = \"train\")).to_csv(\"rvl_subset_train_locations.csv\")"
   ]
  },
  {
   "cell_type": "code",
   "execution_count": 49,
   "metadata": {
    "collapsed": true,
    "jupyter": {
     "outputs_hidden": true
    },
    "tags": []
   },
   "outputs": [
    {
     "name": "stdout",
     "output_type": "stream",
     "text": [
      "Total number of images to go though 100 with 2 different alorithsm\n"
     ]
    },
    {
     "data": {
      "application/vnd.jupyter.widget-view+json": {
       "model_id": "dc6ce7558d044625aca67800e7a175b9",
       "version_major": 2,
       "version_minor": 0
      },
      "text/plain": [
       "  0%|          | 0/100 [00:00<?, ?it/s]"
      ]
     },
     "metadata": {},
     "output_type": "display_data"
    },
    {
     "name": "stdout",
     "output_type": "stream",
     "text": [
      "Pandas(Index=8820, dir='imagesd/d/w/m/dwm87d00/2073354293.tif', cat=1)\n",
      "Pandas(Index=16757, dir='imagesp/p/o/n/pon14d00/507806764.tif', cat=4)\n",
      "Pandas(Index=37411, dir='imagesv/v/l/p/vlp72f00/tob09317.83.tif', cat=9)\n",
      "Pandas(Index=17585, dir='imagesh/h/w/r/hwr62d00/83348495.tif', cat=1)\n",
      "Pandas(Index=24567, dir='imagesp/p/g/p/pgp81a00/1000377236_1000377239.tif', cat=13)\n",
      "Pandas(Index=11076, dir='imagesu/u/f/f/uff45a00/80317042.tif', cat=13)\n",
      "Pandas(Index=35698, dir='imagesd/d/r/x/drx27d00/2073229203_9205.tif', cat=1)\n",
      "Pandas(Index=19196, dir='imagesr/r/r/s/rrs23f00/0000061584.tif', cat=7)\n",
      "Pandas(Index=37363, dir='imagesw/w/o/f/wof53e00/2050871667.tif', cat=1)\n",
      "Pandas(Index=33031, dir='imagest/t/d/j/tdj29c00/2084029786a.tif', cat=2)\n",
      "Pandas(Index=26129, dir='imagesq/q/v/j/qvj89c00/50267173-7186.tif', cat=14)\n",
      "Pandas(Index=35313, dir='imagesi/i/y/y/iyy95d00/50483850-3851.tif', cat=14)\n",
      "Pandas(Index=12582, dir='imagesp/p/l/k/plk93d00/508473757.tif', cat=7)\n",
      "Pandas(Index=14584, dir='imagese/e/f/x/efx07e00/2031301353.tif', cat=7)\n",
      "Pandas(Index=35529, dir='imagest/t/k/s/tks79e00/2024515060.tif', cat=5)\n",
      "Pandas(Index=12926, dir='imagesw/w/f/x/wfx79e00/0000184483.tif', cat=13)\n",
      "Pandas(Index=1837, dir='imageso/o/k/x/okx37c00/2077675453_5500.tif', cat=12)\n",
      "Pandas(Index=24146, dir='imagesc/c/h/o/cho74c00/87122912_2913.tif', cat=6)\n",
      "Pandas(Index=1851, dir='imagesv/v/a/b/vab02c00/2080728793.tif', cat=9)\n",
      "Pandas(Index=27576, dir='imagesq/q/r/n/qrn21e00/87703175_87703176.tif', cat=0)\n",
      "Pandas(Index=13863, dir='imagesy/y/w/w/yww72a00/528015025+-5025.tif', cat=2)\n",
      "Pandas(Index=17110, dir='imagese/e/n/e/ene99c00/40017064-7064.tif', cat=15)\n",
      "Pandas(Index=39970, dir='imagest/t/f/d/tfd46d00/50685384-5385.tif', cat=14)\n",
      "Pandas(Index=22706, dir='imagesm/m/b/i/mbi86c00/2082023349_3367.tif', cat=12)\n",
      "Pandas(Index=36303, dir='imagesg/g/p/o/gpo98d00/50391608-1609.tif', cat=14)\n",
      "Pandas(Index=4778, dir='imagesn/n/k/l/nkl77d00/2062926050.tif', cat=8)\n",
      "Pandas(Index=23657, dir='imagesr/r/z/q/rzq74c00/87444936.tif', cat=5)\n",
      "Pandas(Index=31355, dir='imagesk/k/p/m/kpm37c00/2073351670_1673.tif', cat=0)\n",
      "Pandas(Index=33672, dir='imagesv/v/a/i/vai32d00/2063887493_7494.tif', cat=5)\n",
      "Pandas(Index=29679, dir='imageso/o/k/a/oka04e00/2040767191_2040767193.tif', cat=10)\n",
      "Pandas(Index=11886, dir='imagesm/m/y/r/myr26c00/2071465005_5006.tif', cat=4)\n",
      "Pandas(Index=30481, dir='imagesz/z/e/s/zes61f00/2024842158_2024842159.tif', cat=5)\n",
      "Pandas(Index=37915, dir='imagese/e/h/y/ehy59e00/2029133317.tif', cat=5)\n",
      "Pandas(Index=35497, dir='imagesk/k/a/b/kab12a00/2022158755.tif', cat=5)\n",
      "Pandas(Index=22454, dir='imagesx/x/m/u/xmu03e00/2049307941_2049307942.tif', cat=15)\n",
      "Pandas(Index=11260, dir='imagesf/f/z/n/fzn96c00/50319357-9357.tif', cat=15)\n",
      "Pandas(Index=7874, dir='imagesj/j/b/f/jbf08d00/2072141040.tif', cat=9)\n",
      "Pandas(Index=28431, dir='imagesl/l/q/u/lqu05e00/2041719134.tif', cat=10)\n",
      "Pandas(Index=29438, dir='imagesv/v/j/h/vjh27e00/2028716460.tif', cat=11)\n",
      "Pandas(Index=14778, dir='imagesn/n/a/p/nap89e00/0000138573.tif', cat=10)\n",
      "Pandas(Index=20873, dir='imagesv/v/w/p/vwp94d00/505857083.tif', cat=1)\n",
      "Pandas(Index=35134, dir='imageso/o/v/r/ovr15c00/2505364342_4343.tif', cat=5)\n",
      "Pandas(Index=24690, dir='imagesc/c/g/k/cgk98d00/50380624-0625.tif', cat=14)\n",
      "Pandas(Index=29249, dir='imagesk/k/u/n/kun39e00/2501663036-a.tif', cat=13)\n",
      "Pandas(Index=2315, dir='imagesg/g/e/b/geb32d00/2501979353_9370.tif', cat=12)\n",
      "Pandas(Index=11304, dir='imagesd/d/i/j/dij96d00/tcal0391844_1855.tif', cat=10)\n",
      "Pandas(Index=18818, dir='imagesf/f/k/d/fkd22f00/94002612.tif', cat=0)\n",
      "Pandas(Index=9976, dir='imagesq/q/l/w/qlw32c00/2072137956_7971.tif', cat=5)\n",
      "Pandas(Index=27027, dir='imagesy/y/k/r/ykr84f00/0060339126.tif', cat=12)\n",
      "Pandas(Index=10299, dir='imagesw/w/n/n/wnn83c00/2045520000.tif', cat=8)\n",
      "Pandas(Index=2862, dir='imagesw/w/v/u/wvu64e00/1000334146_1000334210.tif', cat=5)\n",
      "Pandas(Index=23068, dir='imagesg/g/b/g/gbg50f00/0000447686.tif', cat=12)\n",
      "Pandas(Index=38180, dir='imageso/o/a/c/oac15a00/528892776+-2779.tif', cat=2)\n",
      "Pandas(Index=13676, dir='imagesm/m/p/s/mps26e00/2056018304_2056018335.tif', cat=5)\n",
      "Pandas(Index=67, dir='imagesk/k/k/m/kkm82c00/2078861322.tif', cat=12)\n",
      "Pandas(Index=20593, dir='imagesq/q/b/u/qbu26e00/2053462227.tif', cat=7)\n",
      "Pandas(Index=26394, dir='imagesm/m/v/r/mvr89e00/0000123201.tif', cat=10)\n",
      "Pandas(Index=2994, dir='imagesh/h/f/p/hfp50e00/82904871.tif', cat=4)\n",
      "Pandas(Index=23206, dir='imagesl/l/k/o/lko97e00/1002615891-c.tif', cat=9)\n",
      "Pandas(Index=32032, dir='imagese/e/d/s/eds31c00/2085724638a.tif', cat=2)\n",
      "Pandas(Index=21454, dir='imagesg/g/p/n/gpn86e00/2050234125.tif', cat=6)\n",
      "Pandas(Index=34177, dir='imagesy/y/n/o/yno64c00/89582828.tif', cat=4)\n",
      "Pandas(Index=4519, dir='imagesu/u/b/r/ubr67d00/2048785576_5578.tif', cat=9)\n",
      "Pandas(Index=11819, dir='imagesb/b/f/d/bfd54a00/93114015_4019.tif', cat=13)\n",
      "Pandas(Index=17031, dir='imagesz/z/v/i/zvi09d00/50439764-9765.tif', cat=14)\n",
      "Pandas(Index=26178, dir='imagesb/b/l/z/blz18c00/506085867+-5868.tif', cat=0)\n",
      "Pandas(Index=34067, dir='imagesp/p/x/b/pxb50c00/ti17150806.tif', cat=10)\n",
      "Pandas(Index=9063, dir='imagese/e/e/l/eel50e00/94158330.tif', cat=1)\n",
      "Pandas(Index=20740, dir='imagesv/v/s/d/vsd91a00/1003638392.tif', cat=13)\n",
      "Pandas(Index=19781, dir='imagesb/b/j/l/bjl02f00/ton01925.68_ton01925.81.tif', cat=10)\n",
      "Pandas(Index=299, dir='imagesx/x/h/r/xhr28e00/1000848625_1000848626.tif', cat=5)\n",
      "Pandas(Index=20481, dir='imagesz/z/z/q/zzq67e00/2063590036.tif', cat=12)\n",
      "Pandas(Index=19704, dir='imagesn/n/h/c/nhc35c00/2069715388.tif', cat=7)\n",
      "Pandas(Index=10180, dir='imagesj/j/i/j/jij91e00/00921188.tif', cat=11)\n",
      "Pandas(Index=5940, dir='imagesn/n/s/a/nsa22f00/24010425.tif', cat=10)\n",
      "Pandas(Index=33202, dir='imagesu/u/k/v/ukv4aa00/10422588.tif', cat=6)\n",
      "Pandas(Index=22983, dir='imagesg/g/t/p/gtp13f00/0000357991.tif', cat=10)\n",
      "Pandas(Index=14477, dir='imagesp/p/f/z/pfz34c00/86272440_2442.tif', cat=10)\n",
      "Pandas(Index=15253, dir='imagesl/l/l/l/lll78e00/2015020333_2015020334.tif', cat=12)\n",
      "Pandas(Index=18940, dir='imagesf/f/z/q/fzq16d00/50639267-9268.tif', cat=14)\n",
      "Pandas(Index=31963, dir='imagesd/d/j/t/djt38c00/2080324290b.tif', cat=2)\n",
      "Pandas(Index=13526, dir='imagesc/c/b/g/cbg67d00/2076908285.tif', cat=6)\n",
      "Pandas(Index=22111, dir='imagesq/q/b/c/qbc75a00/528374499+-4499.tif', cat=2)\n",
      "Pandas(Index=21023, dir='imagesp/p/s/h/psh22c00/2085270773d.tif', cat=2)\n",
      "Pandas(Index=15984, dir='imagesi/i/s/r/isr25f00/0060067700.tif', cat=11)\n",
      "Pandas(Index=39349, dir='imagesy/y/h/h/yhh74d00/506374926_506374927.tif', cat=1)\n",
      "Pandas(Index=19193, dir='imagesi/i/o/l/iol13f00/0000414796.tif', cat=10)\n",
      "Pandas(Index=29762, dir='imagesn/n/c/r/ncr5aa00/11279572.tif', cat=0)\n",
      "Pandas(Index=9107, dir='imagesf/f/n/e/fne53f00/0001486473.tif', cat=12)\n",
      "Pandas(Index=22931, dir='imagesj/j/n/r/jnr34a00/2067312440.tif', cat=2)\n",
      "Pandas(Index=29339, dir='imagesz/z/c/c/zcc74c00/91554415.tif', cat=4)\n",
      "Pandas(Index=33821, dir='imagesr/r/u/z/ruz79e00/0000176150.tif', cat=10)\n",
      "Pandas(Index=20923, dir='imagesn/n/d/h/ndh54e00/1001912530_1001912534.tif', cat=5)\n",
      "Pandas(Index=15437, dir='imagesw/w/j/u/wju32d00/2025634979.tif', cat=9)\n",
      "Pandas(Index=31170, dir='imagesu/u/t/p/utp14c00/2069721362.tif', cat=7)\n",
      "Pandas(Index=14772, dir='imagesg/g/q/w/gqw71a00/2057470843_2057470844.tif', cat=7)\n",
      "Pandas(Index=3908, dir='imagesf/f/h/c/fhc02f00/tob18603.03.tif', cat=15)\n",
      "Pandas(Index=27288, dir='imagese/e/l/e/ele08c00/527816930+-6931.tif', cat=2)\n",
      "Pandas(Index=9611, dir='imagesi/i/c/c/icc82f00/tob08205.07_tob08205.08.tif', cat=9)\n",
      "Pandas(Index=5073, dir='imagest/t/s/r/tsr22c00/2069734105.tif', cat=7)\n"
     ]
    }
   ],
   "source": [
    "pd.DataFrame(image_ocr(get_rep_sample(val_df, prefix = 'val'), prefix = \"val\")).to_csv(\"rvl_subset_val_locations.csv\")"
   ]
  },
  {
   "cell_type": "code",
   "execution_count": 50,
   "metadata": {
    "collapsed": true,
    "jupyter": {
     "outputs_hidden": true
    },
    "tags": []
   },
   "outputs": [
    {
     "name": "stdout",
     "output_type": "stream",
     "text": [
      "Total number of images to go though 100 with 2 different alorithsm\n"
     ]
    },
    {
     "data": {
      "application/vnd.jupyter.widget-view+json": {
       "model_id": "9ca3d3abdc254146aa06b25416aca9a8",
       "version_major": 2,
       "version_minor": 0
      },
      "text/plain": [
       "  0%|          | 0/100 [00:00<?, ?it/s]"
      ]
     },
     "metadata": {},
     "output_type": "display_data"
    },
    {
     "name": "stdout",
     "output_type": "stream",
     "text": [
      "Pandas(Index=28386, dir='imagest/t/m/l/tml82d00/80302096_2097.tif', cat=4)\n",
      "Pandas(Index=39004, dir='imagesf/f/f/q/ffq07e00/2050240673.tif', cat=6)\n",
      "Pandas(Index=17365, dir='imagesd/d/j/w/djw29e00/2501382690.tif', cat=12)\n",
      "Pandas(Index=13471, dir='imagesl/l/r/f/lrf02d00/71508305.tif', cat=4)\n",
      "Pandas(Index=3750, dir='imagesj/j/n/l/jnl23a00/501077300+-7303.tif', cat=4)\n",
      "Pandas(Index=26782, dir='imagesi/i/j/u/iju10e00/94395729.tif', cat=8)\n",
      "Pandas(Index=25637, dir='imagesy/y/u/a/yua36d00/50728441-8442.tif', cat=14)\n",
      "Pandas(Index=16042, dir='imagesw/w/f/o/wfo62d00/86066705_6706.tif', cat=10)\n",
      "Pandas(Index=14402, dir='imagesq/q/w/a/qwa63e00/2030157619.tif', cat=8)\n",
      "Pandas(Index=21017, dir='imagesq/q/q/k/qqk91c00/2078771290a.tif', cat=2)\n",
      "Pandas(Index=31337, dir='imagesl/l/s/d/lsd65e00/2045342889_2045342917.tif', cat=10)\n",
      "Pandas(Index=22228, dir='imagesd/d/s/t/dst08e00/1002394467_1002394469.tif', cat=13)\n",
      "Pandas(Index=10962, dir='imagesq/q/z/s/qzs62e00/2040214440_2040214442.tif', cat=13)\n",
      "Pandas(Index=6033, dir='imagesh/h/v/a/hva45e00/2040963239_2040963240.tif', cat=10)\n",
      "Pandas(Index=26670, dir='imagesm/m/q/b/mqb02d00/71388984.tif', cat=4)\n",
      "Pandas(Index=21052, dir='imagesz/z/l/s/zls90e00/91515021.tif', cat=11)\n",
      "Pandas(Index=454, dir='imageso/o/a/a/oaa57c00/2072654498.tif', cat=11)\n",
      "Pandas(Index=3713, dir='imagesv/v/o/a/voa28e00/1000769821.tif', cat=6)\n",
      "Pandas(Index=19437, dir='imagesy/y/v/p/yvp58e00/2022218866.tif', cat=10)\n",
      "Pandas(Index=18255, dir='imagesm/m/q/q/mqq70e00/89423450.tif', cat=5)\n",
      "Pandas(Index=24913, dir='imagest/t/k/k/tkk06e00/2043948116.tif', cat=11)\n",
      "Pandas(Index=27070, dir='imagesz/z/f/r/zfr77e00/1003095440.tif', cat=5)\n",
      "Pandas(Index=27158, dir='imagesr/r/q/a/rqa66d00/517508186+-8186.tif', cat=4)\n",
      "Pandas(Index=4774, dir='imagesz/z/i/d/zid39c00/2069714683.tif', cat=7)\n",
      "Pandas(Index=24065, dir='imagese/e/j/o/ejo43e00/2024104713.tif', cat=8)\n",
      "Pandas(Index=4307, dir='imagesw/w/v/w/wvw16e00/2041379370.tif', cat=10)\n",
      "Pandas(Index=31261, dir='imagesa/a/k/v/akv64a00/2063272000.tif', cat=8)\n",
      "Pandas(Index=31180, dir='imagesb/b/s/o/bso23d00/513029570.tif', cat=1)\n",
      "Pandas(Index=21540, dir='imageso/o/d/n/odn97c00/520970542+-0542.tif', cat=1)\n",
      "Pandas(Index=30383, dir='imageso/o/g/m/ogm67e00/2063608355.tif', cat=8)\n",
      "Pandas(Index=24963, dir='imagesk/k/l/u/klu93f00/0000337029.tif', cat=9)\n",
      "Pandas(Index=11230, dir='imagesb/b/v/w/bvw43c00/89723836.tif', cat=11)\n",
      "Pandas(Index=8779, dir='imagesb/b/a/m/bam98e00/2024260743_2024260746.tif', cat=12)\n",
      "Pandas(Index=17693, dir='imagesr/r/c/z/rcz7aa00/50052411.tif', cat=0)\n",
      "Pandas(Index=18943, dir='imagesl/l/a/z/laz22d00/2502145358.tif', cat=9)\n",
      "Pandas(Index=18769, dir='imagesg/g/h/t/ght26d00/50666291-6295.tif', cat=5)\n",
      "Pandas(Index=22867, dir='imagesn/n/z/f/nzf51a00/0071086587.tif', cat=4)\n",
      "Pandas(Index=8420, dir='imagesq/q/c/e/qce09d00/50429994-9995.tif', cat=14)\n",
      "Pandas(Index=33090, dir='imagesf/f/v/z/fvz34a00/2067070378.tif', cat=8)\n",
      "Pandas(Index=38790, dir='imageso/o/h/k/ohk81f00/2028964546_2028964698.tif', cat=5)\n",
      "Pandas(Index=36337, dir='imagesm/m/n/z/mnz74e00/2026024515_2026024923.tif', cat=5)\n",
      "Pandas(Index=26768, dir='imageso/o/h/k/ohk14c00/2069724489.tif', cat=7)\n",
      "Pandas(Index=26860, dir='imagesa/a/f/i/afi2aa00/10171794_10171798.tif', cat=6)\n",
      "Pandas(Index=13697, dir='imagesd/d/t/f/dtf30e00/89250042_89250044.tif', cat=10)\n",
      "Pandas(Index=17446, dir='imagesa/a/g/f/agf5aa00/11291563_11291569.tif', cat=6)\n",
      "Pandas(Index=37694, dir='imagesy/y/u/a/yua45e00/2040963234.tif', cat=10)\n",
      "Pandas(Index=13892, dir='imagesb/b/s/p/bsp13f00/0000357686.tif', cat=12)\n",
      "Pandas(Index=15129, dir='imagesr/r/f/z/rfz19d00/502141052.tif', cat=4)\n",
      "Pandas(Index=36077, dir='imagesg/g/p/i/gpi84c00/93118052_8054.tif', cat=1)\n",
      "Pandas(Index=29001, dir='imagese/e/n/p/enp43d00/511744786_511744788.tif', cat=7)\n",
      "Pandas(Index=38303, dir='imagesw/w/a/o/wao89c00/50275534-5538.tif', cat=14)\n",
      "Pandas(Index=31635, dir='imagesg/g/z/x/gzx68e00/2001222353.tif', cat=12)\n",
      "Pandas(Index=24366, dir='imagesv/v/x/j/vxj46d00/50091834-1834.tif', cat=0)\n",
      "Pandas(Index=23245, dir='imagesf/f/h/a/fha03a00/518623278+-3283.tif', cat=0)\n",
      "Pandas(Index=9140, dir='imageso/o/p/t/opt24c00/96148752.tif', cat=11)\n",
      "Pandas(Index=35839, dir='imageso/o/m/l/oml75c00/2078483604_3607.tif', cat=12)\n",
      "Pandas(Index=7298, dir='imagesz/z/p/i/zpi60c00/2073961095_1099.tif', cat=12)\n",
      "Pandas(Index=32998, dir='imagest/t/o/y/toy53a00/1001839259_9268.tif', cat=12)\n",
      "Pandas(Index=21098, dir='imagesp/p/e/v/pev82c00/2081500967.tif', cat=2)\n",
      "Pandas(Index=37658, dir='imagesd/d/n/i/dni22f00/24007867.tif', cat=10)\n",
      "Pandas(Index=30419, dir='imagesu/u/o/v/uov10f00/0000647197.tif', cat=9)\n",
      "Pandas(Index=38100, dir='imagesa/a/z/d/azd25f00/0060116473.tif', cat=8)\n",
      "Pandas(Index=26482, dir='imagesg/g/o/p/gop33e00/2051121771.tif', cat=8)\n",
      "Pandas(Index=28219, dir='imagesd/d/e/r/der80e00/88774807.tif', cat=8)\n",
      "Pandas(Index=16628, dir='imagesa/a/l/m/alm89c00/50272761-2768.tif', cat=14)\n",
      "Pandas(Index=22848, dir='imagesu/u/b/r/ubr41d00/513553162+-3315.tif', cat=13)\n",
      "Pandas(Index=16719, dir='imagesq/q/s/y/qsy11a00/0071003932.tif', cat=15)\n",
      "Pandas(Index=25059, dir='imagesh/h/u/a/hua43e00/2042817400.tif', cat=8)\n",
      "Pandas(Index=21670, dir='imagesp/p/y/v/pyv68d00/502941451_502941456.tif', cat=13)\n",
      "Pandas(Index=17341, dir='imagesz/z/m/z/zmz56d00/516698696+-8697.tif', cat=4)\n",
      "Pandas(Index=22929, dir='imagesu/u/g/n/ugn15e00/2026368745.tif', cat=11)\n",
      "Pandas(Index=17751, dir='imagesh/h/z/l/hzl70a00/0060146003.tif', cat=15)\n",
      "Pandas(Index=32846, dir='imagese/e/r/m/erm26d00/50617702-7703.tif', cat=14)\n",
      "Pandas(Index=6624, dir='imagesg/g/r/f/grf75e00/2047832562.tif', cat=12)\n",
      "Pandas(Index=24802, dir='imagesz/z/x/c/zxc14c00/2069728574.tif', cat=7)\n",
      "Pandas(Index=13486, dir='imagese/e/o/j/eoj42e00/2058202715.tif', cat=10)\n",
      "Pandas(Index=27305, dir='imagesj/j/b/y/jby32d00/2069533389.tif', cat=8)\n",
      "Pandas(Index=33848, dir='imagesf/f/f/x/ffx06c00/2046677035.tif', cat=9)\n",
      "Pandas(Index=37882, dir='imagesw/w/g/v/wgv42d00/2028528008_8013.tif', cat=6)\n",
      "Pandas(Index=31840, dir='imagesa/a/n/s/ans33e00/2048732391.tif', cat=8)\n",
      "Pandas(Index=29233, dir='imagesc/c/s/x/csx12d00/71359724.tif', cat=13)\n",
      "Pandas(Index=18796, dir='imagesa/a/f/n/afn15c00/2055150338.tif', cat=1)\n",
      "Pandas(Index=29082, dir='imagesl/l/l/e/lle94d00/505910375_505910376.tif', cat=7)\n",
      "Pandas(Index=25359, dir='imagesm/m/u/y/muy60f00/0011973171.tif', cat=0)\n",
      "Pandas(Index=31389, dir='imagesn/n/b/a/nba16d00/50538017-8018.tif', cat=14)\n",
      "Pandas(Index=18984, dir='imagesy/y/b/k/ybk65d00/504564411.tif', cat=7)\n",
      "Pandas(Index=20497, dir='imagesg/g/z/z/gzz90c00/11711023.tif', cat=8)\n",
      "Pandas(Index=22724, dir='imagesc/c/m/i/cmi41a00/0012947886.tif', cat=8)\n",
      "Pandas(Index=575, dir='imagesp/p/i/y/piy75c00/2077996328a.tif', cat=2)\n",
      "Pandas(Index=25305, dir='imagesx/x/h/k/xhk03a00/518470555+-0558.tif', cat=0)\n",
      "Pandas(Index=34096, dir='imagesg/g/o/e/goe70d00/524412968+-2974.tif', cat=11)\n",
      "Pandas(Index=6326, dir='imagesr/r/w/d/rwd43a00/96423992.tif', cat=11)\n",
      "Pandas(Index=9058, dir='imagesm/m/u/b/mub39e00/2501604593_2501604594.tif', cat=1)\n",
      "Pandas(Index=34681, dir='imagese/e/t/l/etl64e00/1002455020_1002455024.tif', cat=4)\n",
      "Pandas(Index=6061, dir='imagesa/a/n/v/anv92e00/2049420059.tif', cat=10)\n",
      "Pandas(Index=15431, dir='imagesm/m/i/y/miy49c00/PUBLICATIONS000206-0.tif', cat=6)\n",
      "Pandas(Index=31981, dir='imagesu/u/i/o/uio06d00/50516123-6124.tif', cat=14)\n",
      "Pandas(Index=5481, dir='imagesm/m/e/o/meo18d00/2046750527_0533.tif', cat=13)\n",
      "Pandas(Index=12775, dir='imageso/o/j/w/ojw5aa00/11299154.tif', cat=0)\n",
      "Pandas(Index=18587, dir='imagese/e/y/q/eyq25a00/92871023.tif', cat=11)\n"
     ]
    }
   ],
   "source": [
    "pd.DataFrame(image_ocr(get_rep_sample(test_df, prefix = 'test'), prefix = \"test\")).to_csv(\"rvl_subset_test_locations.csv\")"
   ]
  },
  {
   "cell_type": "code",
   "execution_count": null,
   "metadata": {},
   "outputs": [],
   "source": [
    "tr"
   ]
  }
 ],
 "metadata": {
  "kernelspec": {
   "display_name": "Python 3",
   "language": "python",
   "name": "python3"
  },
  "language_info": {
   "codemirror_mode": {
    "name": "ipython",
    "version": 3
   },
   "file_extension": ".py",
   "mimetype": "text/x-python",
   "name": "python",
   "nbconvert_exporter": "python",
   "pygments_lexer": "ipython3",
   "version": "3.6.13"
  }
 },
 "nbformat": 4,
 "nbformat_minor": 4
}
